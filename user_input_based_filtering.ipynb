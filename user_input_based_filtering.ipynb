{
  "nbformat": 4,
  "nbformat_minor": 0,
  "metadata": {
    "colab": {
      "provenance": []
    },
    "kernelspec": {
      "name": "python3",
      "display_name": "Python 3"
    },
    "language_info": {
      "name": "python"
    }
  },
  "cells": [
    {
      "cell_type": "code",
      "execution_count": 1,
      "metadata": {
        "id": "sRxUzDdHK-w5"
      },
      "outputs": [],
      "source": [
        "import numpy as np\n",
        "import pandas as pd"
      ]
    },
    {
      "cell_type": "code",
      "source": [
        "from google.colab import drive\n",
        "drive.mount('/content/drive')"
      ],
      "metadata": {
        "colab": {
          "base_uri": "https://localhost:8080/"
        },
        "id": "IKMI5vxlLRsj",
        "outputId": "dccdcc9d-4fbe-4154-9000-8ce71c725c96"
      },
      "execution_count": 2,
      "outputs": [
        {
          "output_type": "stream",
          "name": "stdout",
          "text": [
            "Mounted at /content/drive\n"
          ]
        }
      ]
    },
    {
      "cell_type": "code",
      "source": [
        "# 데이터 로드\n",
        "restaurant_data = pd.read_csv(\"/content/drive/MyDrive/df_meal.csv\", encoding='euc-kr')\n",
        "cafe_data = pd.read_csv(\"/content/drive/MyDrive/DACOS/df_cafe.csv\")\n",
        "# 태그 옵션 정의\n",
        "tag_options = {\n",
        "    '식당': {\n",
        "        '맛': ['음식이 맛있어요', '빵이 맛있어요'],\n",
        "        '특별한 메뉴': ['특별한 메뉴가 있어요'],\n",
        "        '메뉴 다양성': ['메뉴 구성이 알차요'],\n",
        "        '신선도': ['재료가 신선해요', '잡내가 적어요', '고기 질이 좋아요'],\n",
        "        '가성비': ['가성비가 좋아요', '양이 많아요'],\n",
        "        '서비스': ['친절해요', '반찬이 잘 나와요', '음식이 빨리 나와요'],\n",
        "        '청결': ['매장이 청결해요', '화장실이 깨끗해요'],\n",
        "        '혼밥' : ['혼밥하기 좋아요']\n",
        "    },\n",
        "    '카페': {\n",
        "        '커피': ['커피가 맛있어요'],\n",
        "        '디저트': ['디저트가 맛있어요'],\n",
        "        '청결': ['매장이 청결해요', '화장실이 깨끗해요'],\n",
        "        '서비스': ['친절해요', '포장이 깔끔해요'],\n",
        "        '분위기': ['아늑해요', '인테리어가 멋져요'],\n",
        "        '공부하기 좋음음' : ['집중하기 좋아요', '좌석이 편해요', '매장이 넓어요']\n",
        "    },\n",
        "    '술집': {\n",
        "        '맛': ['음식이 맛있어요'],\n",
        "        '서비스': ['친절해요'],\n",
        "        '다양한 술': ['술이 다양해요'],\n",
        "        '분위기': ['음악이 좋아요'],\n",
        "        '대화하기 좋음' : ['대화하기 좋아요']\n",
        "    }\n",
        "}\n",
        "\n",
        "# 식당만 고정된 음식 종류\n",
        "category_options = {\n",
        "    '식당': ['한식', '중식', '일식', '양식', '육류', '아시안음식', '샐러드']\n",
        "}\n",
        "\n",
        "# 사용자 입력 처리 함수\n",
        "def get_user_selection(prompt, choices):\n",
        "    while True:\n",
        "        print(prompt)\n",
        "        for i, choice in enumerate(choices, 1):\n",
        "            print(f\"{i}. {choice}\")\n",
        "        try:\n",
        "            selection = int(input(\"선택 번호를 입력하세요: \")) - 1\n",
        "            if 0 <= selection < len(choices):\n",
        "                return choices[selection]\n",
        "            else:\n",
        "                print(f\"잘못된 입력입니다. 1부터 {len(choices)} 사이의 숫자를 입력하세요.\")\n",
        "        except ValueError:\n",
        "            print(\"숫자를 입력하세요.\")\n",
        "\n",
        "# 사용자 입력\n",
        "try:\n",
        "    # 데이터 선택\n",
        "    selected_category = get_user_selection(\n",
        "        \"데이터를 선택하세요 (1: 식당, 2: 카페):\", [\"식당\", \"카페\"]\n",
        "    )\n",
        "\n",
        "    if selected_category == \"식당\":\n",
        "        selected_data = restaurant_data\n",
        "        # 식당은 음식 종류 선택\n",
        "        selected_food_category = get_user_selection(\n",
        "            \"음식 종류를 선택하세요:\", category_options[\"식당\"]\n",
        "        )\n",
        "        print(f\"선택된 음식 종류: {selected_food_category}\")\n",
        "        # 필터링\n",
        "        filtered_data = selected_data[selected_data['FoodCategory'] == selected_food_category]\n",
        "    else:\n",
        "        selected_data = cafe_data\n",
        "        filtered_data = selected_data  # 전체 데이터 사용\n",
        "        selected_food_category = None  # 구분 없음\n",
        "\n",
        "    # 태그 선택\n",
        "    selected_tags = get_user_selection(\n",
        "        \"중요하게 생각하는 태그를 선택하세요:\", list(tag_options[selected_category].keys())\n",
        "    )\n",
        "    print(f\"선택된 태그: {selected_tags}\")\n",
        "\n",
        "except KeyError as e:\n",
        "    print(f\"선택지 처리 중 오류가 발생했습니다: {e}\")\n",
        "    raise\n",
        "\n",
        "# 태그 기반 평균값 기준 필터링 함수\n",
        "def rank_stores_by_threshold(data, selected_tags, tag_options):\n",
        "    \"\"\"\n",
        "    선택한 태그를 만족하는 가게를 평균값 기준으로 필터링\n",
        "    - data: 데이터프레임\n",
        "    - selected_tags: 사용자가 선택한 태그 리스트\n",
        "    - tag_options: 태그 매핑\n",
        "    \"\"\"\n",
        "    # 선택한 태그의 실제 컬럼 이름 매핑\n",
        "    valid_tags = []\n",
        "    for tag in selected_tags:\n",
        "        if tag in tag_options:\n",
        "            valid_tags.extend(tag_options[tag])  # 선택한 태그의 모든 관련 컬럼 추가\n",
        "\n",
        "    # 데이터프레임에 존재하는 태그만 필터링\n",
        "    valid_tags = [t for t in valid_tags if t in data.columns]\n",
        "    if not valid_tags:\n",
        "        print(f\"선택한 태그 {selected_tags}와 관련된 유효한 데이터가 없습니다.\")\n",
        "        return pd.DataFrame()\n",
        "\n",
        "    # 유효한 태그들의 합계 계산\n",
        "    data['Score'] = data[valid_tags].sum(axis=1)\n",
        "    threshold = data['Score'].mean()  # 평균값 계산\n",
        "    print(f\"태그 리뷰 합계 평균값 기준 임계값: {threshold:.2f}\")\n",
        "\n",
        "    # 평균값 이상인 데이터 필터링\n",
        "    filtered_data = data[data['Score'] >= threshold]\n",
        "    return filtered_data\n",
        "\n",
        "# 필터링된 결과 계산\n",
        "ranked_results = rank_stores_by_threshold(filtered_data, selected_tags, tag_options[selected_category])\n",
        "\n",
        "# 결과 출력\n",
        "if not ranked_results.empty:\n",
        "    print(f\"평균값 기준 임계값 이상을 만족하는 가게:\")\n",
        "    print(ranked_results[['가게명', 'FoodCategory', 'Score']].head(10))  # 상위 10개 출력\n",
        "else:\n",
        "    print(f\"선택한 태그 {selected_tags}에 대해 평균값 기준 이상 만족하는 가게가 없습니다.\")"
      ],
      "metadata": {
        "colab": {
          "base_uri": "https://localhost:8080/"
        },
        "id": "pjIgxOmDLUHv",
        "outputId": "056a1bdb-11ac-47e4-a932-996349220ab6"
      },
      "execution_count": 4,
      "outputs": [
        {
          "output_type": "stream",
          "name": "stdout",
          "text": [
            "데이터를 선택하세요 (1: 식당, 2: 카페):\n",
            "1. 식당\n",
            "2. 카페\n",
            "선택 번호를 입력하세요: 1\n",
            "음식 종류를 선택하세요:\n",
            "1. 한식\n",
            "2. 중식\n",
            "3. 일식\n",
            "4. 양식\n",
            "5. 육류\n",
            "6. 아시안음식\n",
            "7. 샐러드\n",
            "선택 번호를 입력하세요: 1\n",
            "선택된 음식 종류: 한식\n",
            "중요하게 생각하는 태그를 선택하세요:\n",
            "1. 맛\n",
            "2. 특별한 메뉴\n",
            "3. 메뉴 다양성\n",
            "4. 신선도\n",
            "5. 가성비\n",
            "6. 서비스\n",
            "7. 청결\n",
            "8. 혼밥\n",
            "선택 번호를 입력하세요: 1\n",
            "선택된 태그: 맛\n",
            "태그 리뷰 합계 평균값 기준 임계값: 426.47\n",
            "평균값 기준 임계값 이상을 만족하는 가게:\n",
            "           가게명 FoodCategory  Score\n",
            "33  샤브로21 숙명여대           한식    688\n",
            "38       만나칼국수           한식    428\n",
            "48        한입소반           한식   3077\n",
            "62        구복만두           한식   1332\n",
            "63      한강로칼국수           한식    717\n",
            "65    남산드럼통 본점           한식    451\n",
            "70      오복함흥냉면           한식    598\n",
            "79         남영탉           한식   1260\n"
          ]
        },
        {
          "output_type": "stream",
          "name": "stderr",
          "text": [
            "<ipython-input-4-82192ca2e051>:105: SettingWithCopyWarning: \n",
            "A value is trying to be set on a copy of a slice from a DataFrame.\n",
            "Try using .loc[row_indexer,col_indexer] = value instead\n",
            "\n",
            "See the caveats in the documentation: https://pandas.pydata.org/pandas-docs/stable/user_guide/indexing.html#returning-a-view-versus-a-copy\n",
            "  data['Score'] = data[valid_tags].sum(axis=1)\n"
          ]
        }
      ]
    },
    {
      "cell_type": "code",
      "source": [
        "# 상위 태그 컬럼 제외\n",
        "if selected_category == \"식당\":\n",
        "  additional_excluded_columns = [\n",
        "      \"음식이 맛있어요\",\n",
        "      '빵이 맛있어요'\n",
        "      '특별한 메뉴가 있어요',\n",
        "      '메뉴 구성이 알차요',\n",
        "      '재료가 신선해요',\n",
        "      '잡내가 적어요',\n",
        "      '고기 질이 좋아요'\n",
        "      \"친절해요\",\n",
        "      \"가성비가 좋아요\",\n",
        "      \"양이 많아요\",\n",
        "      '반찬이 잘 나와요',\n",
        "      '음식이 빨리 나와요'\n",
        "      \"매장이 청결해요\",\n",
        "      '화장실이 깨끗해요'\n",
        "  ]\n",
        "else :\n",
        "  additional_excluded_columns = [\n",
        "      '커피가 맛있어요',\n",
        "      '디저트가 맛있어요',\n",
        "      '매장이 청결해요',\n",
        "      '화장실이 깨끗해요',\n",
        "      '친절해요',\n",
        "      '포장이 깔끔해요',\n",
        "      '아늑해요',\n",
        "      '인테리어가 멋져요'\n",
        "    ]\n",
        "\n",
        "df= ranked_results\n",
        "\n",
        "  # 첫 두 개 컬럼과 마지막 컬럼 제외\n",
        "excluded_columns = df.columns[:3].tolist() + df.columns[-2:].tolist()\n",
        "\n",
        "# 최종 제외 리스트\n",
        "final_excluded_columns = excluded_columns + additional_excluded_columns\n",
        "\n",
        "# 나머지 컬럼 리스트\n",
        "remaining_columns = [col for col in df.columns if col not in final_excluded_columns]\n",
        "print(\"Remaining Columns:\", remaining_columns)"
      ],
      "metadata": {
        "id": "SYecNet4h5If",
        "colab": {
          "base_uri": "https://localhost:8080/"
        },
        "outputId": "13fe6363-b717-46e4-8d6f-33d4e32fbd9c"
      },
      "execution_count": 5,
      "outputs": [
        {
          "output_type": "stream",
          "name": "stdout",
          "text": [
            "Remaining Columns: ['혼밥하기 좋아요', '친절해요', '특별한 메뉴가 있어요', '매장이 넓어요', '매장이 청결해요', '인테리어가 멋져요', '특별한 날 가기 좋아요', '단체모임 하기 좋아요', '아늑해요', '음식이 빨리 나와요', '주차하기 편해요', '뷰가 좋아요', '음료가 맛있어요', '아이와 가기 좋아요', '반려동물과 가기 좋아요', '룸이 잘 되어있어요', '오래 머무르기 좋아요', '환기가 잘 돼요', '차분한 분위기에요', '코스요리가 알차요', '비싼 만큼 가치있어요', '대화하기 좋아요', '건강한 맛이에요', '음악이 좋아요', '좌석이 편해요', '사진이 잘 나와요', '현지 맛에 가까워요', '고기 질이 좋아요', '샐러드바가 잘 되어있어요', '혼술하기 좋아요', '향신료가 강하지 않아요', '야외공간이 멋져요', '컨셉이 독특해요', '포장이 깔끔해요', '술이 다양해요', '직접 잘 구워줘요', '커피가 맛있어요', '디저트가 맛있어요', '기본 안주가 좋아요', '집중하기 좋아요', '빵이 맛있어요', '태그 총합']\n"
          ]
        }
      ]
    },
    {
      "cell_type": "code",
      "source": [
        "# Input 텍스트와 Remaining Columns 정의\n",
        "input_txt = [input(\"기타 입력 사항을 입력하시오: \")]"
      ],
      "metadata": {
        "id": "bEb7jgpPOjei",
        "colab": {
          "base_uri": "https://localhost:8080/"
        },
        "outputId": "d9ef6f48-c584-4f6e-e0ac-f04ae9160b77"
      },
      "execution_count": 11,
      "outputs": [
        {
          "name": "stdout",
          "output_type": "stream",
          "text": [
            "기타 입력 사항을 입력하시오: 퓨전식 이색 요리\n"
          ]
        }
      ]
    },
    {
      "cell_type": "code",
      "source": [
        "import pandas as pd\n",
        "from transformers import AutoTokenizer, AutoModel\n",
        "import torch\n",
        "from sklearn.metrics.pairwise import cosine_similarity\n",
        "\n",
        "# KoBERT 모델 및 토크나이저 로드\n",
        "model_name = \"monologg/kobert\"\n",
        "tokenizer = AutoTokenizer.from_pretrained(model_name)\n",
        "model = AutoModel.from_pretrained(model_name)"
      ],
      "metadata": {
        "colab": {
          "base_uri": "https://localhost:8080/"
        },
        "id": "FGIvr8wQ_RwN",
        "outputId": "9989c291-31c1-4eff-92b7-9937b64a65bf"
      },
      "execution_count": 12,
      "outputs": [
        {
          "name": "stdout",
          "output_type": "stream",
          "text": [
            "The repository for monologg/kobert contains custom code which must be executed to correctly load the model. You can inspect the repository content at https://hf.co/monologg/kobert.\n",
            "You can avoid this prompt in future by passing the argument `trust_remote_code=True`.\n",
            "\n",
            "Do you wish to run the custom code? [y/N] y\n"
          ]
        }
      ]
    },
    {
      "cell_type": "code",
      "source": [
        "# 문장 임베딩 생성 함수\n",
        "def get_embeddings(text_list):\n",
        "    inputs = tokenizer(text_list, return_tensors=\"pt\", padding=True, truncation=True, max_length=64)\n",
        "    with torch.no_grad():\n",
        "        outputs = model(**inputs)\n",
        "    embeddings = outputs.last_hidden_state.mean(dim=1)  # 평균 풀링 사용\n",
        "    return embeddings\n",
        "\n",
        "# Threshold 설정\n",
        "threshold = 0.72\n",
        "\n",
        "# Input 텍스트와 Remaining Columns 임베딩\n",
        "input_embeddings = get_embeddings(input_txt)\n",
        "remaining_embeddings = get_embeddings(remaining_columns)\n",
        "\n",
        "# 유사도 계산\n",
        "similarity_matrix = cosine_similarity(input_embeddings.numpy(), remaining_embeddings.numpy())\n",
        "\n",
        "# 유사도 결과를 데이터프레임으로 변환\n",
        "similarity_df2 = pd.DataFrame(\n",
        "    similarity_matrix,\n",
        "    index=input_txt,\n",
        "    columns=remaining_columns\n",
        ")\n",
        "\n",
        "# high_similarity_pairs 구성 및 결과 저장\n",
        "high_similarity_pairs = []\n",
        "result_data = []\n",
        "\n",
        "for input_text in similarity_df2.index:\n",
        "    similar_columns = similarity_df2.loc[input_text][similarity_df2.loc[input_text] >= threshold]\n",
        "\n",
        "    # 상위 5개 선택 (유사도 기준 내림차순)\n",
        "    selected_tags = similar_columns.sort_values(ascending=False).head(5)\n",
        "\n",
        "    # 선택된 태그가 있다면 리스트로 저장, 없다면 빈 리스트\n",
        "    if len(selected_tags) > 0:\n",
        "        tag_list = selected_tags.index.tolist()\n",
        "    else:\n",
        "        tag_list = []\n",
        "\n",
        "    # high_similarity_pairs에 추가\n",
        "    for column, similarity in selected_tags.items():\n",
        "        high_similarity_pairs.append((input_text, column, similarity))\n",
        "\n",
        "    # 결과 데이터 구성\n",
        "    result_data.append({\"입력 텍스트\": input_text, \"최종 선택 태그의 리스트\": tag_list})\n",
        "\n",
        "# 결과 데이터프레임 생성\n",
        "result_df = pd.DataFrame(result_data)\n",
        "\n",
        "# 출력\n",
        "print(result_df)"
      ],
      "metadata": {
        "colab": {
          "base_uri": "https://localhost:8080/"
        },
        "id": "AOYOVZTJpt-Q",
        "outputId": "7ddd59ba-8a32-4ed7-cda0-07cf200717cd"
      },
      "execution_count": 13,
      "outputs": [
        {
          "output_type": "stream",
          "name": "stdout",
          "text": [
            "      입력 텍스트 최종 선택 태그의 리스트\n",
            "0  퓨전식 이색 요리   [코스요리가 알차요]\n"
          ]
        }
      ]
    },
    {
      "cell_type": "code",
      "source": [
        "# 디버깅: result_df의 컬럼 확인\n",
        "print(\"result_df 컬럼들:\", result_df.columns)\n",
        "\n",
        "# 각 input_txt에 대해 조건을 만족하는 가게별 유사도 점수 계산\n",
        "final_results = []\n",
        "\n",
        "for input_text in result_df[\"입력 텍스트\"]:\n",
        "    # 디버깅: 입력 텍스트 확인\n",
        "    print(f\"현재 처리 중: {input_text}\")\n",
        "\n",
        "    # 해당 input_txt의 tag_list 가져오기\n",
        "    if \"최종 선택 태그의 리스트\" not in result_df.columns:\n",
        "        raise KeyError(\"'최종 선택 태그의 리스트' 컬럼이 존재하지 않습니다. result_df 컬럼들을 확인하세요.\")\n",
        "\n",
        "    tag_list = result_df[result_df[\"입력 텍스트\"] == input_text][\"최종 선택 태그의 리스트\"].values[0]\n",
        "\n",
        "    # tag_list가 비어 있는 경우 처리\n",
        "    if len(tag_list) == 0:\n",
        "        final_results.append({\n",
        "            \"입력 텍스트\": input_text,\n",
        "            \"추천 가게\": [],\n",
        "        })\n",
        "        continue\n",
        "\n",
        "    # 태그 수의 비율 계산 (1 / len(tag_list) * 태그 수)\n",
        "    df[\"태그 비율\"] = df[tag_list].sum(axis=1) / len(tag_list)\n",
        "\n",
        "    # 조건에 맞는 가게 필터링 (태그 수 >= len(tag_list))\n",
        "    filtered_df = df[df[tag_list].gt(0).sum(axis=1) >= len(tag_list)]\n",
        "\n",
        "    # 태그 비율 기준 내림차순 정렬 후 상위 10개 가게 추출\n",
        "    top_stores = filtered_df.sort_values(\"태그 비율\", ascending=False).head(10)\n",
        "\n",
        "    # 결과 저장\n",
        "    recommended_stores = [\n",
        "        {\"가게명\": row[\"가게명\"], \"유사도 점수\": row[\"태그 비율\"]}\n",
        "        for _, row in top_stores.iterrows()\n",
        "    ]\n",
        "\n",
        "    final_results.append({\n",
        "        \"입력 텍스트\": input_text,\n",
        "        \"추천 가게\": recommended_stores,\n",
        "    })\n",
        "\n",
        "# 최종 결과 출력\n",
        "for result2 in final_results:\n",
        "    print(f\"입력 텍스트: {result2['입력 텍스트']}\")\n",
        "    print(\"추천 가게:\")\n",
        "    for store in result2[\"추천 가게\"]:\n",
        "        print(f\" - 가게명: {store['가게명']}, 유사도 점수: {store['유사도 점수']:.4f}\")\n",
        "    print()\n"
      ],
      "metadata": {
        "colab": {
          "base_uri": "https://localhost:8080/"
        },
        "id": "vG7XA7vHEKz1",
        "outputId": "7d6bd765-6b08-46bb-fd49-483f8ba8702b"
      },
      "execution_count": 14,
      "outputs": [
        {
          "output_type": "stream",
          "name": "stdout",
          "text": [
            "result_df 컬럼들: Index(['입력 텍스트', '최종 선택 태그의 리스트'], dtype='object')\n",
            "현재 처리 중: 퓨전식 이색 요리\n",
            "입력 텍스트: 퓨전식 이색 요리\n",
            "추천 가게:\n",
            "\n"
          ]
        },
        {
          "output_type": "stream",
          "name": "stderr",
          "text": [
            "<ipython-input-14-92e169b267b6>:26: SettingWithCopyWarning: \n",
            "A value is trying to be set on a copy of a slice from a DataFrame.\n",
            "Try using .loc[row_indexer,col_indexer] = value instead\n",
            "\n",
            "See the caveats in the documentation: https://pandas.pydata.org/pandas-docs/stable/user_guide/indexing.html#returning-a-view-versus-a-copy\n",
            "  df[\"태그 비율\"] = df[tag_list].sum(axis=1) / len(tag_list)\n"
          ]
        }
      ]
    },
    {
      "cell_type": "markdown",
      "source": [
        "# TF - IDF 리뷰 유사도 추출"
      ],
      "metadata": {
        "id": "Q1duoUVLDaXG"
      }
    },
    {
      "cell_type": "code",
      "source": [
        "import pandas as pd\n",
        "from sklearn.feature_extraction.text import TfidfVectorizer\n",
        "from sklearn.metrics.pairwise import cosine_similarity\n",
        "\n",
        "input_txt =['퓨전식 이색 요리']\n",
        "\n",
        "if selected_category == \"식당\":\n",
        "    df_t= pd.read_csv('/content/drive/MyDrive/result_meal.csv')\n",
        "else:\n",
        "    df_t= pd.read_csv('/content/drive/MyDrive/result_cafe.csv')\n",
        "\n",
        "# 가게명이 포함된 리스트가 ranked_results['가게명']에 있다고 가정\n",
        "ranked_store_names = ranked_results['가게명']\n",
        "\n",
        "# df_t에서 store_name이 ranked_store_names에 존재하는 경우만 필터링\n",
        "df_t = df_t[df_t['store_name'].isin(ranked_store_names)]\n",
        "\n",
        "# NaN 값 제거 또는 대체\n",
        "df_t[\"text_review\"] = df_t[\"text_review\"].fillna(\"\")  # NaN 값을 빈 문자열로 대체\n",
        "\n",
        "# TF-IDF 벡터라이저 초기화\n",
        "tfidf_vectorizer = TfidfVectorizer()\n",
        "\n",
        "# 데이터셋 리뷰 벡터화\n",
        "corpus = df_t[\"text_review\"].tolist()\n",
        "tfidf_matrix = tfidf_vectorizer.fit_transform(corpus)\n",
        "\n",
        "# 결과 저장을 위한 리스트\n",
        "result_data = []\n",
        "\n",
        "# 각 입력 텍스트에 대해 유사도 계산\n",
        "for user_input in input_txt:\n",
        "    # 입력 텍스트 벡터화\n",
        "    input_vector = tfidf_vectorizer.transform([user_input])\n",
        "\n",
        "    # 코사인 유사도 계산\n",
        "    similarity_scores = cosine_similarity(input_vector, tfidf_matrix)\n",
        "\n",
        "    # 유사도 추가\n",
        "    df_t[\"Similarity\"] = similarity_scores.flatten()\n",
        "\n",
        "    # 장소별 유사도 상위 5개의 점수 평균 계산\n",
        "    top5_avg_similarity = (\n",
        "        df_t.groupby(\"store_name\")\n",
        "        .apply(lambda group: group.nlargest(10, \"Similarity\")[\"Similarity\"].mean())\n",
        "        .reset_index(name=\"Avg_Similarity\")\n",
        "    )\n",
        "\n",
        "    # 평균 유사도를 기준으로 상위 5개의 장소\n",
        "    top5_places = top5_avg_similarity.sort_values(by=\"Avg_Similarity\", ascending=False).head(10)\n",
        "\n",
        "    # 결과 저장\n",
        "    result_data.append({\"입력 텍스트\": user_input, \"상위 5개 장소 및 평균 유사도\": top5_places.to_dict(orient=\"records\")})\n",
        "\n",
        "# 결과 데이터프레임 생성\n",
        "result_df_2 = pd.DataFrame(result_data)\n",
        "\n",
        "# 출력\n",
        "print(result_df_2)"
      ],
      "metadata": {
        "colab": {
          "base_uri": "https://localhost:8080/"
        },
        "id": "ljmlyqcoDO_n",
        "outputId": "68f5696f-d0a0-4ce4-b009-a1c3cbba446a"
      },
      "execution_count": 17,
      "outputs": [
        {
          "output_type": "stream",
          "name": "stdout",
          "text": [
            "      입력 텍스트                                  상위 5개 장소 및 평균 유사도\n",
            "0  퓨전식 이색 요리  [{'store_name': '구복만두', 'Avg_Similarity': 0.0}...\n"
          ]
        },
        {
          "output_type": "stream",
          "name": "stderr",
          "text": [
            "<ipython-input-17-78665b764df6>:45: DeprecationWarning: DataFrameGroupBy.apply operated on the grouping columns. This behavior is deprecated, and in a future version of pandas the grouping columns will be excluded from the operation. Either pass `include_groups=False` to exclude the groupings or explicitly select the grouping columns after groupby to silence this warning.\n",
            "  .apply(lambda group: group.nlargest(10, \"Similarity\")[\"Similarity\"].mean())\n"
          ]
        }
      ]
    },
    {
      "cell_type": "code",
      "source": [
        "# 유사도 점수가 높은 10개의 가게 선정 및 차등 가중치 적용\n",
        "final_results = []\n",
        "\n",
        "# 각 입력 텍스트에 대해 상위 10개 가게 선정 및 점수 계산\n",
        "for result in result_data:\n",
        "    user_input = result[\"입력 텍스트\"]\n",
        "    top_places = pd.DataFrame(result[\"상위 5개 장소 및 평균 유사도\"])\n",
        "\n",
        "    # 동일한 가게가 여러 입력 텍스트에 등장할 수 있으므로 모든 결과 합치기\n",
        "    if not top_places.empty:\n",
        "        # 상위 10개의 가게 및 평균 유사도 추출\n",
        "        sorted_places = top_places.sort_values(\"Avg_Similarity\", ascending=False).head(10)\n",
        "\n",
        "        # 차등 가중치 계산: 10~5에서 0.5씩 감소\n",
        "        weights = [200 - i * 10 for i in range(len(sorted_places))]\n",
        "\n",
        "        # 최종 점수 계산: 유사도 × 가중치\n",
        "        sorted_places[\"Weighted_Score\"] = sorted_places[\"Avg_Similarity\"] * weights\n",
        "\n",
        "        # 최종 점수 기준으로 정렬\n",
        "        sorted_places = sorted_places.sort_values(\"Weighted_Score\", ascending=False)\n",
        "\n",
        "        # 결과 저장\n",
        "        final_results.append({\n",
        "            \"입력 텍스트\": user_input,\n",
        "            \"추천 가게\": sorted_places[[\"store_name\", \"Weighted_Score\"]].to_dict(orient=\"records\")\n",
        "        })\n",
        "\n",
        "# 최종 결과 출력\n",
        "for result in final_results:\n",
        "    print(f\"입력 텍스트: {result['입력 텍스트']}\")\n",
        "    print(\"추천 가게:\")\n",
        "    for store in result[\"추천 가게\"]:\n",
        "        print(f\" - 가게명: {store['store_name']}, 점수: {store['Weighted_Score']:.2f}\")\n",
        "    print()"
      ],
      "metadata": {
        "colab": {
          "base_uri": "https://localhost:8080/"
        },
        "id": "Y4_49mN3IMCz",
        "outputId": "3b6102cb-1906-4703-b457-ae89d3382d71"
      },
      "execution_count": 18,
      "outputs": [
        {
          "output_type": "stream",
          "name": "stdout",
          "text": [
            "입력 텍스트: 퓨전식 이색 요리\n",
            "추천 가게:\n",
            " - 가게명: 구복만두, 점수: 0.00\n",
            " - 가게명: 남산드럼통 본점, 점수: 0.00\n",
            " - 가게명: 남영탉, 점수: 0.00\n",
            " - 가게명: 만나칼국수, 점수: 0.00\n",
            " - 가게명: 샤브로21 숙명여대, 점수: 0.00\n",
            " - 가게명: 오복함흥냉면, 점수: 0.00\n",
            " - 가게명: 한강로칼국수, 점수: 0.00\n",
            " - 가게명: 한입소반, 점수: 0.00\n",
            "\n"
          ]
        }
      ]
    },
    {
      "cell_type": "code",
      "source": [
        "# 입력 텍스트별 최종 유사도 점수 계산\n",
        "final_results_by_input = {}\n",
        "\n",
        "# result와 result2의 점수 합산\n",
        "for result, result2 in zip(final_results, final_results):\n",
        "    input_text = result[\"입력 텍스트\"]\n",
        "\n",
        "    # 입력 텍스트에 대한 각 가게의 점수 합산\n",
        "    store_scores = {}\n",
        "\n",
        "    # result에서 점수 합산\n",
        "    for store in result[\"추천 가게\"]:\n",
        "        store_name = store.get(\"store_name\", store.get(\"가게명\"))\n",
        "        score = store.get(\"유사도 점수\", store.get(\"Weighted_Score\"))\n",
        "        if store_name and score:\n",
        "            if store_name not in store_scores:\n",
        "                store_scores[store_name] = 0\n",
        "            store_scores[store_name] += score\n",
        "\n",
        "    # result2에서 점수 합산\n",
        "    for store in result2[\"추천 가게\"]:\n",
        "        store_name = store.get(\"store_name\", store.get(\"가게명\"))\n",
        "        score = store.get(\"유사도 점수\", store.get(\"Weighted_Score\"))\n",
        "        if store_name and score:\n",
        "            if store_name not in store_scores:\n",
        "                store_scores[store_name] = 0\n",
        "            store_scores[store_name] += score\n",
        "\n",
        "    # 입력 텍스트별로 상위 5곳 추출\n",
        "    sorted_stores = sorted(store_scores.items(), key=lambda x: x[1], reverse=True)[:5]\n",
        "    final_results_by_input[input_text] = sorted_stores\n",
        "\n",
        "# 결과 출력\n",
        "for input_text, top_stores in final_results_by_input.items():\n",
        "    print(f\"입력 텍스트: {input_text}\")\n",
        "    print(\"최종 유사도 점수 상위 5곳:\")\n",
        "    for store_name, score in top_stores:\n",
        "        print(f\" - 가게명: {store_name}, 최종 점수: {score:.4f}\")\n",
        "    print()"
      ],
      "metadata": {
        "colab": {
          "base_uri": "https://localhost:8080/"
        },
        "id": "Z0E_iALNJIq2",
        "outputId": "4330c2a0-fe90-423c-8cc0-72e576dd5a44"
      },
      "execution_count": 19,
      "outputs": [
        {
          "output_type": "stream",
          "name": "stdout",
          "text": [
            "입력 텍스트: 퓨전식 이색 요리\n",
            "최종 유사도 점수 상위 5곳:\n",
            "\n"
          ]
        }
      ]
    }
  ]
}